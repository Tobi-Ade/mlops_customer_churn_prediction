{
 "cells": [
  {
   "attachments": {},
   "cell_type": "markdown",
   "id": "a6a494df-4c7c-4fe0-a6eb-56da9324ae4f",
   "metadata": {},
   "source": [
    "## Notebook with Mlflow Tracking\n"
   ]
  },
  {
   "cell_type": "code",
   "execution_count": 1,
   "id": "c4e06676",
   "metadata": {},
   "outputs": [],
   "source": [
    "#import libraries\n",
    "import pickle\n",
    "import mlflow\n",
    "\n",
    "import numpy as np\n",
    "import pandas as pd\n",
    "import xgboost as xgb\n",
    "import seaborn as sns\n",
    "\n",
    "from xgboost import DMatrix\n",
    "from datetime import datetime\n",
    "import matplotlib.pyplot as plt\n",
    "from sklearn.tree import DecisionTreeClassifier\n",
    "from sklearn.linear_model import LogisticRegression\n",
    "from sklearn.ensemble import RandomForestClassifier\n",
    "from sklearn.model_selection import train_test_split\n",
    "\n",
    "from sklearn.metrics import roc_auc_score"
   ]
  },
  {
   "cell_type": "code",
   "execution_count": 2,
   "id": "6c675f54",
   "metadata": {},
   "outputs": [
    {
     "data": {
      "text/plain": [
       "<Experiment: artifact_location='/home/ubuntu/mlops-project/mlops_customer_churn_prediction/notebooks/artifacts/1', creation_time=1689392749595, experiment_id='1', last_update_time=1689392749595, lifecycle_stage='active', name='mlops-project', tags={}>"
      ]
     },
     "execution_count": 2,
     "metadata": {},
     "output_type": "execute_result"
    }
   ],
   "source": [
    "mlflow.set_tracking_uri(\"http://127.0.0.1:5000\")\n",
    "\n",
    "mlflow.set_experiment(\"mlops-project\")"
   ]
  },
  {
   "cell_type": "code",
   "execution_count": 3,
   "id": "a171e150-4446-4bbd-b245-50d2cd614114",
   "metadata": {},
   "outputs": [],
   "source": [
    "#read data\n",
    "def read_data(file_path):\n",
    "    \"\"\"\n",
    "    create dataframe from csv file\n",
    "    params:csv file \n",
    "    returns: dataframe \n",
    "    rtype: \n",
    "    \"\"\"\n",
    "    df = pd.read_csv(file_path)\n",
    "    return df "
   ]
  },
  {
   "cell_type": "code",
   "execution_count": 4,
   "id": "0202ebc4-17fe-4485-9ae5-e6d16516df8d",
   "metadata": {},
   "outputs": [],
   "source": [
    "#read data\n",
    "data = read_data(\"../data/bank-customers/Churn Modeling.csv\")\n",
    "\n",
    "#create copy of data for analysis\n",
    "df = data.copy()"
   ]
  },
  {
   "attachments": {},
   "cell_type": "markdown",
   "id": "6e149374-926b-42bf-a7e9-4a998cabb3cc",
   "metadata": {},
   "source": [
    "### Data Preparation and Exploratory Data Analysis\n"
   ]
  },
  {
   "cell_type": "code",
   "execution_count": 5,
   "id": "f0a291b9-0068-465b-849d-3b587b1f5e5b",
   "metadata": {},
   "outputs": [
    {
     "data": {
      "text/html": [
       "<div>\n",
       "<style scoped>\n",
       "    .dataframe tbody tr th:only-of-type {\n",
       "        vertical-align: middle;\n",
       "    }\n",
       "\n",
       "    .dataframe tbody tr th {\n",
       "        vertical-align: top;\n",
       "    }\n",
       "\n",
       "    .dataframe thead th {\n",
       "        text-align: right;\n",
       "    }\n",
       "</style>\n",
       "<table border=\"1\" class=\"dataframe\">\n",
       "  <thead>\n",
       "    <tr style=\"text-align: right;\">\n",
       "      <th></th>\n",
       "      <th>RowNumber</th>\n",
       "      <th>CustomerId</th>\n",
       "      <th>Surname</th>\n",
       "      <th>CreditScore</th>\n",
       "      <th>Geography</th>\n",
       "      <th>Gender</th>\n",
       "      <th>Age</th>\n",
       "      <th>Tenure</th>\n",
       "      <th>Balance</th>\n",
       "      <th>NumOfProducts</th>\n",
       "      <th>HasCrCard</th>\n",
       "      <th>IsActiveMember</th>\n",
       "      <th>EstimatedSalary</th>\n",
       "      <th>Exited</th>\n",
       "    </tr>\n",
       "  </thead>\n",
       "  <tbody>\n",
       "    <tr>\n",
       "      <th>0</th>\n",
       "      <td>1</td>\n",
       "      <td>15634602</td>\n",
       "      <td>Hargrave</td>\n",
       "      <td>619</td>\n",
       "      <td>France</td>\n",
       "      <td>Female</td>\n",
       "      <td>42</td>\n",
       "      <td>2</td>\n",
       "      <td>0.00</td>\n",
       "      <td>1</td>\n",
       "      <td>1</td>\n",
       "      <td>1</td>\n",
       "      <td>101348.88</td>\n",
       "      <td>1</td>\n",
       "    </tr>\n",
       "    <tr>\n",
       "      <th>1</th>\n",
       "      <td>2</td>\n",
       "      <td>15647311</td>\n",
       "      <td>Hill</td>\n",
       "      <td>608</td>\n",
       "      <td>Spain</td>\n",
       "      <td>Female</td>\n",
       "      <td>41</td>\n",
       "      <td>1</td>\n",
       "      <td>83807.86</td>\n",
       "      <td>1</td>\n",
       "      <td>0</td>\n",
       "      <td>1</td>\n",
       "      <td>112542.58</td>\n",
       "      <td>0</td>\n",
       "    </tr>\n",
       "    <tr>\n",
       "      <th>2</th>\n",
       "      <td>3</td>\n",
       "      <td>15619304</td>\n",
       "      <td>Onio</td>\n",
       "      <td>502</td>\n",
       "      <td>France</td>\n",
       "      <td>Female</td>\n",
       "      <td>42</td>\n",
       "      <td>8</td>\n",
       "      <td>159660.80</td>\n",
       "      <td>3</td>\n",
       "      <td>1</td>\n",
       "      <td>0</td>\n",
       "      <td>113931.57</td>\n",
       "      <td>1</td>\n",
       "    </tr>\n",
       "    <tr>\n",
       "      <th>3</th>\n",
       "      <td>4</td>\n",
       "      <td>15701354</td>\n",
       "      <td>Boni</td>\n",
       "      <td>699</td>\n",
       "      <td>France</td>\n",
       "      <td>Female</td>\n",
       "      <td>39</td>\n",
       "      <td>1</td>\n",
       "      <td>0.00</td>\n",
       "      <td>2</td>\n",
       "      <td>0</td>\n",
       "      <td>0</td>\n",
       "      <td>93826.63</td>\n",
       "      <td>0</td>\n",
       "    </tr>\n",
       "    <tr>\n",
       "      <th>4</th>\n",
       "      <td>5</td>\n",
       "      <td>15737888</td>\n",
       "      <td>Mitchell</td>\n",
       "      <td>850</td>\n",
       "      <td>Spain</td>\n",
       "      <td>Female</td>\n",
       "      <td>43</td>\n",
       "      <td>2</td>\n",
       "      <td>125510.82</td>\n",
       "      <td>1</td>\n",
       "      <td>1</td>\n",
       "      <td>1</td>\n",
       "      <td>79084.10</td>\n",
       "      <td>0</td>\n",
       "    </tr>\n",
       "  </tbody>\n",
       "</table>\n",
       "</div>"
      ],
      "text/plain": [
       "   RowNumber  CustomerId   Surname  CreditScore Geography  Gender  Age  \\\n",
       "0          1    15634602  Hargrave          619    France  Female   42   \n",
       "1          2    15647311      Hill          608     Spain  Female   41   \n",
       "2          3    15619304      Onio          502    France  Female   42   \n",
       "3          4    15701354      Boni          699    France  Female   39   \n",
       "4          5    15737888  Mitchell          850     Spain  Female   43   \n",
       "\n",
       "   Tenure    Balance  NumOfProducts  HasCrCard  IsActiveMember  \\\n",
       "0       2       0.00              1          1               1   \n",
       "1       1   83807.86              1          0               1   \n",
       "2       8  159660.80              3          1               0   \n",
       "3       1       0.00              2          0               0   \n",
       "4       2  125510.82              1          1               1   \n",
       "\n",
       "   EstimatedSalary  Exited  \n",
       "0        101348.88       1  \n",
       "1        112542.58       0  \n",
       "2        113931.57       1  \n",
       "3         93826.63       0  \n",
       "4         79084.10       0  "
      ]
     },
     "execution_count": 5,
     "metadata": {},
     "output_type": "execute_result"
    }
   ],
   "source": [
    "df.head()"
   ]
  },
  {
   "cell_type": "code",
   "execution_count": 6,
   "id": "a245550f-cb2b-4719-a72e-6bafc76676d5",
   "metadata": {},
   "outputs": [
    {
     "name": "stdout",
     "output_type": "stream",
     "text": [
      "<class 'pandas.core.frame.DataFrame'>\n",
      "RangeIndex: 10000 entries, 0 to 9999\n",
      "Data columns (total 14 columns):\n",
      " #   Column           Non-Null Count  Dtype  \n",
      "---  ------           --------------  -----  \n",
      " 0   RowNumber        10000 non-null  int64  \n",
      " 1   CustomerId       10000 non-null  int64  \n",
      " 2   Surname          10000 non-null  object \n",
      " 3   CreditScore      10000 non-null  int64  \n",
      " 4   Geography        10000 non-null  object \n",
      " 5   Gender           10000 non-null  object \n",
      " 6   Age              10000 non-null  int64  \n",
      " 7   Tenure           10000 non-null  int64  \n",
      " 8   Balance          10000 non-null  float64\n",
      " 9   NumOfProducts    10000 non-null  int64  \n",
      " 10  HasCrCard        10000 non-null  int64  \n",
      " 11  IsActiveMember   10000 non-null  int64  \n",
      " 12  EstimatedSalary  10000 non-null  float64\n",
      " 13  Exited           10000 non-null  int64  \n",
      "dtypes: float64(2), int64(9), object(3)\n",
      "memory usage: 1.1+ MB\n"
     ]
    }
   ],
   "source": [
    "df.info()"
   ]
  },
  {
   "cell_type": "code",
   "execution_count": 7,
   "id": "7b127cc2-bdd7-4ed9-b8e7-fb4f156e57d1",
   "metadata": {
    "tags": []
   },
   "outputs": [
    {
     "data": {
      "text/html": [
       "<div>\n",
       "<style scoped>\n",
       "    .dataframe tbody tr th:only-of-type {\n",
       "        vertical-align: middle;\n",
       "    }\n",
       "\n",
       "    .dataframe tbody tr th {\n",
       "        vertical-align: top;\n",
       "    }\n",
       "\n",
       "    .dataframe thead th {\n",
       "        text-align: right;\n",
       "    }\n",
       "</style>\n",
       "<table border=\"1\" class=\"dataframe\">\n",
       "  <thead>\n",
       "    <tr style=\"text-align: right;\">\n",
       "      <th></th>\n",
       "      <th>RowNumber</th>\n",
       "      <th>CustomerId</th>\n",
       "      <th>CreditScore</th>\n",
       "      <th>Age</th>\n",
       "      <th>Tenure</th>\n",
       "      <th>Balance</th>\n",
       "      <th>NumOfProducts</th>\n",
       "      <th>HasCrCard</th>\n",
       "      <th>IsActiveMember</th>\n",
       "      <th>EstimatedSalary</th>\n",
       "      <th>Exited</th>\n",
       "    </tr>\n",
       "  </thead>\n",
       "  <tbody>\n",
       "    <tr>\n",
       "      <th>count</th>\n",
       "      <td>10000.00000</td>\n",
       "      <td>1.000000e+04</td>\n",
       "      <td>10000.000000</td>\n",
       "      <td>10000.000000</td>\n",
       "      <td>10000.000000</td>\n",
       "      <td>10000.000000</td>\n",
       "      <td>10000.000000</td>\n",
       "      <td>10000.00000</td>\n",
       "      <td>10000.000000</td>\n",
       "      <td>10000.000000</td>\n",
       "      <td>10000.000000</td>\n",
       "    </tr>\n",
       "    <tr>\n",
       "      <th>mean</th>\n",
       "      <td>5000.50000</td>\n",
       "      <td>1.569094e+07</td>\n",
       "      <td>650.528800</td>\n",
       "      <td>38.921800</td>\n",
       "      <td>5.012800</td>\n",
       "      <td>76485.889288</td>\n",
       "      <td>1.530200</td>\n",
       "      <td>0.70550</td>\n",
       "      <td>0.515100</td>\n",
       "      <td>100090.239881</td>\n",
       "      <td>0.203700</td>\n",
       "    </tr>\n",
       "    <tr>\n",
       "      <th>std</th>\n",
       "      <td>2886.89568</td>\n",
       "      <td>7.193619e+04</td>\n",
       "      <td>96.653299</td>\n",
       "      <td>10.487806</td>\n",
       "      <td>2.892174</td>\n",
       "      <td>62397.405202</td>\n",
       "      <td>0.581654</td>\n",
       "      <td>0.45584</td>\n",
       "      <td>0.499797</td>\n",
       "      <td>57510.492818</td>\n",
       "      <td>0.402769</td>\n",
       "    </tr>\n",
       "    <tr>\n",
       "      <th>min</th>\n",
       "      <td>1.00000</td>\n",
       "      <td>1.556570e+07</td>\n",
       "      <td>350.000000</td>\n",
       "      <td>18.000000</td>\n",
       "      <td>0.000000</td>\n",
       "      <td>0.000000</td>\n",
       "      <td>1.000000</td>\n",
       "      <td>0.00000</td>\n",
       "      <td>0.000000</td>\n",
       "      <td>11.580000</td>\n",
       "      <td>0.000000</td>\n",
       "    </tr>\n",
       "    <tr>\n",
       "      <th>25%</th>\n",
       "      <td>2500.75000</td>\n",
       "      <td>1.562853e+07</td>\n",
       "      <td>584.000000</td>\n",
       "      <td>32.000000</td>\n",
       "      <td>3.000000</td>\n",
       "      <td>0.000000</td>\n",
       "      <td>1.000000</td>\n",
       "      <td>0.00000</td>\n",
       "      <td>0.000000</td>\n",
       "      <td>51002.110000</td>\n",
       "      <td>0.000000</td>\n",
       "    </tr>\n",
       "    <tr>\n",
       "      <th>50%</th>\n",
       "      <td>5000.50000</td>\n",
       "      <td>1.569074e+07</td>\n",
       "      <td>652.000000</td>\n",
       "      <td>37.000000</td>\n",
       "      <td>5.000000</td>\n",
       "      <td>97198.540000</td>\n",
       "      <td>1.000000</td>\n",
       "      <td>1.00000</td>\n",
       "      <td>1.000000</td>\n",
       "      <td>100193.915000</td>\n",
       "      <td>0.000000</td>\n",
       "    </tr>\n",
       "    <tr>\n",
       "      <th>75%</th>\n",
       "      <td>7500.25000</td>\n",
       "      <td>1.575323e+07</td>\n",
       "      <td>718.000000</td>\n",
       "      <td>44.000000</td>\n",
       "      <td>7.000000</td>\n",
       "      <td>127644.240000</td>\n",
       "      <td>2.000000</td>\n",
       "      <td>1.00000</td>\n",
       "      <td>1.000000</td>\n",
       "      <td>149388.247500</td>\n",
       "      <td>0.000000</td>\n",
       "    </tr>\n",
       "    <tr>\n",
       "      <th>max</th>\n",
       "      <td>10000.00000</td>\n",
       "      <td>1.581569e+07</td>\n",
       "      <td>850.000000</td>\n",
       "      <td>92.000000</td>\n",
       "      <td>10.000000</td>\n",
       "      <td>250898.090000</td>\n",
       "      <td>4.000000</td>\n",
       "      <td>1.00000</td>\n",
       "      <td>1.000000</td>\n",
       "      <td>199992.480000</td>\n",
       "      <td>1.000000</td>\n",
       "    </tr>\n",
       "  </tbody>\n",
       "</table>\n",
       "</div>"
      ],
      "text/plain": [
       "         RowNumber    CustomerId   CreditScore           Age        Tenure  \\\n",
       "count  10000.00000  1.000000e+04  10000.000000  10000.000000  10000.000000   \n",
       "mean    5000.50000  1.569094e+07    650.528800     38.921800      5.012800   \n",
       "std     2886.89568  7.193619e+04     96.653299     10.487806      2.892174   \n",
       "min        1.00000  1.556570e+07    350.000000     18.000000      0.000000   \n",
       "25%     2500.75000  1.562853e+07    584.000000     32.000000      3.000000   \n",
       "50%     5000.50000  1.569074e+07    652.000000     37.000000      5.000000   \n",
       "75%     7500.25000  1.575323e+07    718.000000     44.000000      7.000000   \n",
       "max    10000.00000  1.581569e+07    850.000000     92.000000     10.000000   \n",
       "\n",
       "             Balance  NumOfProducts    HasCrCard  IsActiveMember  \\\n",
       "count   10000.000000   10000.000000  10000.00000    10000.000000   \n",
       "mean    76485.889288       1.530200      0.70550        0.515100   \n",
       "std     62397.405202       0.581654      0.45584        0.499797   \n",
       "min         0.000000       1.000000      0.00000        0.000000   \n",
       "25%         0.000000       1.000000      0.00000        0.000000   \n",
       "50%     97198.540000       1.000000      1.00000        1.000000   \n",
       "75%    127644.240000       2.000000      1.00000        1.000000   \n",
       "max    250898.090000       4.000000      1.00000        1.000000   \n",
       "\n",
       "       EstimatedSalary        Exited  \n",
       "count     10000.000000  10000.000000  \n",
       "mean     100090.239881      0.203700  \n",
       "std       57510.492818      0.402769  \n",
       "min          11.580000      0.000000  \n",
       "25%       51002.110000      0.000000  \n",
       "50%      100193.915000      0.000000  \n",
       "75%      149388.247500      0.000000  \n",
       "max      199992.480000      1.000000  "
      ]
     },
     "execution_count": 7,
     "metadata": {},
     "output_type": "execute_result"
    }
   ],
   "source": [
    "#numerical information about the dataset\n",
    "df.describe()"
   ]
  },
  {
   "cell_type": "code",
   "execution_count": 8,
   "id": "1f6aef30-1726-4097-9b1a-67183eeb39b6",
   "metadata": {},
   "outputs": [],
   "source": [
    "#encoding categorical column\n",
    "df.Gender.replace([\"Female\", \"Male\"], [0, 1], inplace=True)"
   ]
  },
  {
   "cell_type": "code",
   "execution_count": 9,
   "id": "ac7e1760-81e4-4cd5-a01e-2727e9569a11",
   "metadata": {
    "tags": []
   },
   "outputs": [],
   "source": [
    "#removing redundant columns \n",
    "df.drop(columns=[\"RowNumber\", \"CustomerId\", \"Surname\", \"Geography\"], inplace=True)"
   ]
  },
  {
   "cell_type": "code",
   "execution_count": 10,
   "id": "0afab3ad",
   "metadata": {},
   "outputs": [],
   "source": [
    "def get_data_splits(df):\n",
    "    \"\"\"\n",
    "    split data for modelling\n",
    "    returns: data splits\n",
    "    rtype: pandas dataframe\n",
    "    \"\"\"\n",
    "    #specifying data splits\n",
    "    df_full_train, df_test = train_test_split(df, test_size=0.2, random_state=42)\n",
    "    df_train, df_val = train_test_split(df_full_train, test_size=0.25, random_state=42)\n",
    "\n",
    "    return df_full_train, df_train, df_val, df_test"
   ]
  },
  {
   "cell_type": "code",
   "execution_count": 11,
   "id": "e9924b0e",
   "metadata": {},
   "outputs": [],
   "source": [
    "df_full_train, df_train, df_val, df_test = get_data_splits(df)\n",
    "\n",
    "#specifying target variable\n",
    "y_full_train = df_full_train['Exited'].values\n",
    "y_train = df_train['Exited'].values\n",
    "y_val = df_val['Exited'].values\n",
    "y_test = df_test['Exited'].values\n",
    "\n",
    "del df_full_train['Exited']\n",
    "del df_train['Exited']\n",
    "del df_val['Exited']\n",
    "del df_test['Exited']\n",
    "\n",
    "#converting data splits into arrays \n",
    "X_full_train = df_full_train.to_numpy()\n",
    "X_train = df_train.to_numpy()\n",
    "X_val = df_val.to_numpy()\n",
    "X_test = df_test.to_numpy()"
   ]
  },
  {
   "cell_type": "code",
   "execution_count": 12,
   "id": "1c211f94-8149-4fef-8c96-2b1951df5e33",
   "metadata": {},
   "outputs": [],
   "source": [
    "\"\"\"\n",
    "Splitting data \n",
    "\"\"\"\n",
    "#specifying data splits\n",
    "df_full_train, df_test = train_test_split(df, test_size=0.2, random_state=42)\n",
    "df_train, df_val = train_test_split(df_full_train, test_size=0.25, random_state=42)\n",
    "\n",
    "#specifying target variable\n",
    "y_full_train = df_full_train['Exited'].values\n",
    "y_train = df_train['Exited'].values\n",
    "y_val = df_val['Exited'].values\n",
    "y_test = df_test['Exited'].values\n",
    "\n",
    "del df_full_train['Exited']\n",
    "del df_train['Exited']\n",
    "del df_val['Exited']\n",
    "del df_test['Exited']\n",
    "\n",
    "#converting data splits into arrays \n",
    "X_full_train = df_full_train.to_numpy()\n",
    "X_train = df_train.to_numpy()\n",
    "X_val = df_val.to_numpy()\n",
    "X_test = df_test.to_numpy()"
   ]
  },
  {
   "attachments": {},
   "cell_type": "markdown",
   "id": "2a2b7a58-560f-4d38-b00f-858ad4df6285",
   "metadata": {},
   "source": [
    "### Model Building "
   ]
  },
  {
   "attachments": {},
   "cell_type": "markdown",
   "id": "32e68de7-0b20-4db1-a1e1-1e02f885900b",
   "metadata": {},
   "source": [
    "### Logistic Regression"
   ]
  },
  {
   "cell_type": "code",
   "execution_count": 13,
   "id": "9b2921e6",
   "metadata": {},
   "outputs": [],
   "source": [
    "mlflow.sklearn.autolog()"
   ]
  },
  {
   "cell_type": "code",
   "execution_count": 14,
   "id": "fef6488d-6bdc-41a7-8825-33a8af4f1a66",
   "metadata": {
    "tags": []
   },
   "outputs": [
    {
     "name": "stderr",
     "output_type": "stream",
     "text": [
      "2023/07/15 18:56:59 WARNING mlflow.utils.autologging_utils: MLflow autologging encountered a warning: \"/home/ubuntu/anaconda3/envs/project-env/lib/python3.11/site-packages/_distutils_hack/__init__.py:33: UserWarning: Setuptools is replacing distutils.\"\n"
     ]
    },
    {
     "name": "stdout",
     "output_type": "stream",
     "text": [
      "0.5250446915609349\n"
     ]
    }
   ],
   "source": [
    "#Evaluating model on test data\n",
    "with mlflow.start_run():\n",
    "    \n",
    "    mlflow.log_param(\"data\", \"../data/bank-customers/Churn Modeling.csv\")\n",
    "\n",
    "    lrf = LogisticRegression()\n",
    "\n",
    "    lrf.fit(X_full_train, y_full_train)\n",
    "    y_pred_lr = lrf.predict(X_test)\n",
    "\n",
    "    lr_score = roc_auc_score(y_test, y_pred_lr)\n",
    "\n",
    "    mlflow.log_metric(\"roc_auc_score\", lr_score)\n",
    "\n",
    "    print(lr_score)\n",
    "\n",
    "    mlflow.end_run()"
   ]
  },
  {
   "attachments": {},
   "cell_type": "markdown",
   "id": "98652c5a-90fe-49a7-9edb-fbf3ed739709",
   "metadata": {},
   "source": [
    "### Random Forest "
   ]
  },
  {
   "cell_type": "code",
   "execution_count": 15,
   "id": "2e724b4b-f88d-40c3-9f0c-2f0351e5338c",
   "metadata": {
    "tags": []
   },
   "outputs": [
    {
     "name": "stdout",
     "output_type": "stream",
     "text": [
      "0.7001611904660116\n"
     ]
    }
   ],
   "source": [
    "#Evaluating model on test data\n",
    "with mlflow.start_run():\n",
    "    \n",
    "    mlflow.log_param(\"data\", \"../data/bank-customers/Churn Modeling.csv\")\n",
    "    \n",
    "    rfr = RandomForestClassifier()\n",
    "\n",
    "    rfr.fit(X_full_train, y_full_train)\n",
    "\n",
    "    y_pred_rfr = rfr.predict(X_test)\n",
    "\n",
    "    rf_score = roc_auc_score(y_test, y_pred_rfr)\n",
    "    mlflow.log_metric(\"roc_auc_score\", rf_score)\n",
    "\n",
    "    print(rf_score)\n",
    "\n",
    "    mlflow.end_run()"
   ]
  },
  {
   "attachments": {},
   "cell_type": "markdown",
   "id": "cf5dd46d-46b2-41e0-99f4-37ca13f146a0",
   "metadata": {},
   "source": [
    "### XGBoost"
   ]
  },
  {
   "cell_type": "code",
   "execution_count": 16,
   "id": "093ae018-b8c9-43e3-a0e6-62f4554c2a07",
   "metadata": {
    "tags": []
   },
   "outputs": [],
   "source": [
    "#specifying parameters for training the model\n",
    "xgb_params = {\n",
    "    'eta': 0.3,\n",
    "    'max_depth': 10,\n",
    "    'min_child_weight': 1,\n",
    "\n",
    "    'objective': 'binary:logistic',\n",
    "    'eval_metric': 'auc',\n",
    "    'nthread': 8,\n",
    "    'seed': 1\n",
    "}"
   ]
  },
  {
   "cell_type": "code",
   "execution_count": 17,
   "id": "db6aa3ee-3fc1-4553-866c-88da717e677c",
   "metadata": {
    "tags": []
   },
   "outputs": [
    {
     "name": "stdout",
     "output_type": "stream",
     "text": [
      "0.8311957387447728\n"
     ]
    }
   ],
   "source": [
    "#Evaluating the model on test data\n",
    "with mlflow.start_run():\n",
    "\n",
    "    dmatrix = DMatrix\n",
    "\n",
    "    mlflow.log_param(\"data\", \"../data/bank-customers/Churn Modeling.csv\")\n",
    "    mlflow.log_params(xgb_params)\n",
    "\n",
    "\n",
    "    d_full_train = dmatrix(X_full_train, label=y_full_train, feature_names=df_train.columns)\n",
    "    dtest = dmatrix(X_test, label=y_test, feature_names=df_test.columns)\n",
    "    \n",
    "    xgb_clf = xgb.train(xgb_params, d_full_train)\n",
    "    y_pred_xgb = xgb_clf.predict(dtest)\n",
    "\n",
    "    xgb_score = roc_auc_score(y_test, y_pred_xgb)\n",
    "\n",
    "    mlflow.log_metric(\"roc_auc_score\", xgb_score)\n",
    "\n",
    "    print(xgb_score)\n",
    "\n",
    "    with open(\"../models/preprocessor.b\", \"wb\") as f_out:\n",
    "        pickle.dump(dmatrix, f_out)\n",
    "    \n",
    "    mlflow.log_artifact(\"../models/preprocessor.b\", artifact_path=\"preprocessor\")\n",
    "\n",
    "    mlflow.xgboost.log_model(xgb_clf, artifact_path=\"model_artifact\")\n",
    "    mlflow.end_run()"
   ]
  },
  {
   "cell_type": "code",
   "execution_count": 18,
   "id": "92a76ef8",
   "metadata": {},
   "outputs": [
    {
     "name": "stderr",
     "output_type": "stream",
     "text": [
      "2023/07/15 18:57:09 WARNING mlflow.xgboost: Failed to infer model signature: training data did not have the following fields: CreditScore, Gender, Age, Tenure, Balance, NumOfProducts, HasCrCard, IsActiveMember, EstimatedSalary\n"
     ]
    },
    {
     "name": "stdout",
     "output_type": "stream",
     "text": [
      "0.8311957387447728\n"
     ]
    }
   ],
   "source": [
    "#Evaluating the model on test data\n",
    "mlflow.xgboost.autolog()\n",
    "version = \"v2\"\n",
    "\n",
    "with mlflow.start_run():\n",
    "\n",
    "    mlflow.log_param(\"data\", \"../data/bank-customers/Churn Modeling.csv\")\n",
    "\n",
    "    d_full_train = dmatrix(X_full_train, label=y_full_train, feature_names=df_train.columns)\n",
    "    dtest = dmatrix(X_test, label=y_test, feature_names=df_test.columns)\n",
    "    \n",
    "    xgb_clf = xgb.train(xgb_params, d_full_train)\n",
    "    y_pred_xgb = xgb_clf.predict(dtest)\n",
    "\n",
    "    xgb_score = roc_auc_score(y_test, y_pred_xgb)\n",
    "\n",
    "    mlflow.log_metric(\"roc_auc_score\", xgb_score)\n",
    "\n",
    "    print(xgb_score)\n",
    "\n",
    "    with open(f\"../models/preprocessor{version}.b\", \"wb\") as f_out:\n",
    "        pickle.dump(dmatrix, f_out)\n",
    "    \n",
    "    mlflow.log_artifact(\"../models/preprocessor.b\", artifact_path=\"preprocessor\")\n",
    "\n",
    "    mlflow.end_run()"
   ]
  }
 ],
 "metadata": {
  "kernelspec": {
   "display_name": "Python 3 (ipykernel)",
   "language": "python",
   "name": "python3"
  },
  "language_info": {
   "codemirror_mode": {
    "name": "ipython",
    "version": 3
   },
   "file_extension": ".py",
   "mimetype": "text/x-python",
   "name": "python",
   "nbconvert_exporter": "python",
   "pygments_lexer": "ipython3",
   "version": "3.11.4"
  }
 },
 "nbformat": 4,
 "nbformat_minor": 5
}
